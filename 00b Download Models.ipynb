{
 "cells": [
  {
   "cell_type": "code",
   "execution_count": 0,
   "metadata": {
    "application/vnd.databricks.v1+cell": {
     "cellMetadata": {
      "byteLimit": 2048000,
      "rowLimit": 10000
     },
     "inputWidgets": {},
     "nuid": "919e189e-a63d-4cfb-bddb-2edc95428b5c",
     "showTitle": false,
     "tableResultSettingsMap": {},
     "title": ""
    }
   },
   "outputs": [],
   "source": [
    "CATALOG = \"marcell\"\n",
    "SCHEMA = \"call_centre_processing\""
   ]
  },
  {
   "cell_type": "code",
   "execution_count": 0,
   "metadata": {
    "application/vnd.databricks.v1+cell": {
     "cellMetadata": {
      "byteLimit": 2048000,
      "rowLimit": 10000
     },
     "inputWidgets": {},
     "nuid": "303da576-73bb-453a-9c33-9975142deb00",
     "showTitle": false,
     "tableResultSettingsMap": {},
     "title": ""
    }
   },
   "outputs": [],
   "source": [
    "spark.sql(f\"CREATE VOLUME IF NOT EXISTS {CATALOG}.{SCHEMA}.my_volume\")"
   ]
  },
  {
   "cell_type": "code",
   "execution_count": 0,
   "metadata": {
    "application/vnd.databricks.v1+cell": {
     "cellMetadata": {
      "byteLimit": 2048000,
      "rowLimit": 10000
     },
     "inputWidgets": {},
     "nuid": "b6fafd7b-3d7e-428b-8068-f3f96ae34b8e",
     "showTitle": false,
     "tableResultSettingsMap": {},
     "title": ""
    }
   },
   "outputs": [],
   "source": [
    "from transformers import pipeline\n",
    "import torch"
   ]
  },
  {
   "cell_type": "code",
   "execution_count": 0,
   "metadata": {
    "application/vnd.databricks.v1+cell": {
     "cellMetadata": {
      "byteLimit": 2048000,
      "rowLimit": 10000
     },
     "inputWidgets": {},
     "nuid": "03525a51-e498-484a-b9b4-8e8a818534e1",
     "showTitle": false,
     "tableResultSettingsMap": {},
     "title": ""
    }
   },
   "outputs": [],
   "source": [
    "MODEL_SAVE_PATH = \"/Volumes/marcell/call_centre_processing/data/model_artifacts/whisper-tiny/\"\n",
    "dbutils.fs.mkdirs(MODEL_SAVE_PATH)\n",
    "MODEL_ID = \"openai/whisper-tiny\"\n",
    "whisper_pipeline = pipeline(\"automatic-speech-recognition\", MODEL_ID, torch_dtype=torch.float16, device=\"cuda:0\")\n",
    "whisper_pipeline.save_pretrained(MODEL_SAVE_PATH)"
   ]
  },
  {
   "cell_type": "code",
   "execution_count": 0,
   "metadata": {
    "application/vnd.databricks.v1+cell": {
     "cellMetadata": {
      "byteLimit": 2048000,
      "rowLimit": 10000
     },
     "inputWidgets": {},
     "nuid": "e3f0d09b-0601-4463-a554-ff30b20d66a8",
     "showTitle": false,
     "tableResultSettingsMap": {},
     "title": ""
    }
   },
   "outputs": [],
   "source": [
    "# MODEL_SAVE_PATH = \"/Volumes/marcell/call_centre_processing/data/model_artifacts/whisper-tiny/\"\n",
    "# dbutils.fs.mkdirs(MODEL_SAVE_PATH)\n",
    "MODEL_ID = \"openai/whisper-tiny\"\n",
    "whisper_pipeline = pipeline(\"automatic-speech-recognition\", MODEL_ID, torch_dtype=torch.float16, device=\"cuda:0\")\n",
    "# whisper_pipeline.save_pretrained(MODEL_SAVE_PATH)"
   ]
  },
  {
   "cell_type": "code",
   "execution_count": 0,
   "metadata": {
    "application/vnd.databricks.v1+cell": {
     "cellMetadata": {
      "byteLimit": 2048000,
      "rowLimit": 10000
     },
     "inputWidgets": {},
     "nuid": "6843f41a-e77c-4715-adf8-ffd2dfcc0c74",
     "showTitle": false,
     "tableResultSettingsMap": {},
     "title": ""
    }
   },
   "outputs": [],
   "source": [
    "import mlflow\n",
    "\n",
    "mlflow.transformers.log_model(whisper_pipeline,artifact_path='model')"
   ]
  },
  {
   "cell_type": "code",
   "execution_count": 0,
   "metadata": {
    "application/vnd.databricks.v1+cell": {
     "cellMetadata": {
      "byteLimit": 2048000,
      "rowLimit": 10000
     },
     "inputWidgets": {},
     "nuid": "73182c2b-6f35-488e-b0fb-21aadaa31903",
     "showTitle": false,
     "tableResultSettingsMap": {},
     "title": ""
    }
   },
   "outputs": [],
   "source": [
    "MODEL_SAVE_PATH = \"/Volumes/marcell/call_centre_processing/data/model_artifacts/whisper-medium/\"\n",
    "dbutils.fs.mkdirs(MODEL_SAVE_PATH)\n",
    "MODEL_ID = \"openai/whisper-large-v3\"\n",
    "whisper_pipeline = pipeline(\"automatic-speech-recognition\", MODEL_ID, torch_dtype=torch.float16, device=\"cuda:0\")\n",
    "# whisper_pipeline.save_pretrained(MODEL_SAVE_PATH)"
   ]
  },
  {
   "cell_type": "code",
   "execution_count": 0,
   "metadata": {
    "application/vnd.databricks.v1+cell": {
     "cellMetadata": {
      "byteLimit": 2048000,
      "rowLimit": 10000
     },
     "inputWidgets": {},
     "nuid": "fb4ed821-8158-4254-9c8a-84d82cdec8a7",
     "showTitle": false,
     "tableResultSettingsMap": {},
     "title": ""
    }
   },
   "outputs": [],
   "source": [
    "import mlflow\n",
    "\n",
    "with mlflow.start_run():\n",
    "    mlflow.transformers.log_model(whisper_pipeline,\n",
    "        artifact_path='model',\n",
    "        registered_model_name=\"mlops_pj.gsk_gsc_cfu_count.whisper_large_v3\",\n",
    "    )"
   ]
  },
  {
   "cell_type": "code",
   "execution_count": 0,
   "metadata": {
    "application/vnd.databricks.v1+cell": {
     "cellMetadata": {
      "byteLimit": 2048000,
      "rowLimit": 10000
     },
     "inputWidgets": {},
     "nuid": "a0d26a3a-c57e-49ab-b45d-acbd26e5e69e",
     "showTitle": false,
     "tableResultSettingsMap": {},
     "title": ""
    }
   },
   "outputs": [],
   "source": [
    "MODEL_SAVE_PATH = \"/Volumes/marcell/call_centre_processing/data/model_artifacts/ner-model/\"\n",
    "dbutils.fs.mkdirs(MODEL_SAVE_PATH)\n",
    "ner_pipeline = pipeline(\"ner\", device=\"cuda:0\")\n",
    "ner_pipeline.save_pretrained(MODEL_SAVE_PATH)"
   ]
  },
  {
   "cell_type": "code",
   "execution_count": 0,
   "metadata": {
    "application/vnd.databricks.v1+cell": {
     "cellMetadata": {
      "byteLimit": 2048000,
      "rowLimit": 10000
     },
     "inputWidgets": {},
     "nuid": "f3c4b67d-2d0e-4336-a5f3-ce9dc2513e95",
     "showTitle": false,
     "tableResultSettingsMap": {},
     "title": ""
    }
   },
   "outputs": [],
   "source": [
    "MODEL_SAVE_PATH = \"/Volumes/marcell/call_centre_processing/data/model_artifacts/phi-4/\"\n",
    "dbutils.fs.mkdirs(MODEL_SAVE_PATH)\n",
    "phi_pipeline = pipeline(\n",
    "        \"text-generation\",\n",
    "        model=\"microsoft/phi-4\",\n",
    "        model_kwargs={\"torch_dtype\": \"auto\"},\n",
    "        device_map=\"auto\",\n",
    "    )\n",
    "# phi_pipeline.save_pretrained(MODEL_SAVE_PATH)"
   ]
  },
  {
   "cell_type": "code",
   "execution_count": 0,
   "metadata": {
    "application/vnd.databricks.v1+cell": {
     "cellMetadata": {
      "byteLimit": 2048000,
      "rowLimit": 10000
     },
     "inputWidgets": {},
     "nuid": "0224a23e-b4f4-4afe-b314-b3fe48391668",
     "showTitle": false,
     "tableResultSettingsMap": {},
     "title": ""
    }
   },
   "outputs": [],
   "source": [
    "import mlflow\n",
    "\n",
    "with mlflow.start_run():\n",
    "    mlflow.transformers.log_model(phi_pipeline,\n",
    "        artifact_path='model',\n",
    "        registered_model_name=\"mlops_pj.gsk_gsc_cfu_count.phi-4\",\n",
    "    )\n"
   ]
  },
  {
   "cell_type": "code",
   "execution_count": 0,
   "metadata": {
    "application/vnd.databricks.v1+cell": {
     "cellMetadata": {
      "byteLimit": 2048000,
      "rowLimit": 10000
     },
     "inputWidgets": {},
     "nuid": "592e6f12-f30c-4235-8ff3-8ae470a0ea79",
     "showTitle": false,
     "tableResultSettingsMap": {},
     "title": ""
    }
   },
   "outputs": [],
   "source": [
    "MODEL_SAVE_PATH = \"/Volumes/marcell/call_centre_processing/data/model_artifacts/phi-3.5/\"\n",
    "dbutils.fs.mkdirs(MODEL_SAVE_PATH)\n",
    "phi_35_pipeline = pipeline(\n",
    "        \"text-generation\",\n",
    "        model=\"microsoft/Phi-3.5-mini-instruct\"\n",
    "    )\n",
    "phi_35_pipeline.save_pretrained(MODEL_SAVE_PATH)"
   ]
  }
 ],
 "metadata": {
  "application/vnd.databricks.v1+notebook": {
   "computePreferences": null,
   "dashboards": [],
   "environmentMetadata": {
    "base_environment": "",
    "environment_version": "1"
   },
   "language": "python",
   "notebookMetadata": {
    "pythonIndentUnit": 2
   },
   "notebookName": "00b Download Models",
   "widgets": {}
  },
  "language_info": {
   "name": "python"
  }
 },
 "nbformat": 4,
 "nbformat_minor": 0
}
