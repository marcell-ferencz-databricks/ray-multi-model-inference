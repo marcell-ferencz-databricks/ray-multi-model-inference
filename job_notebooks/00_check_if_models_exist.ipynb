{
 "cells": [
  {
   "cell_type": "markdown",
   "metadata": {
    "application/vnd.databricks.v1+cell": {
     "cellMetadata": {},
     "inputWidgets": {},
     "nuid": "acdcd7b0-be7f-4a55-8bf0-e06208afb93d",
     "showTitle": false,
     "tableResultSettingsMap": {},
     "title": ""
    }
   },
   "source": [
    "# Get Model Choices"
   ]
  },
  {
   "cell_type": "code",
   "execution_count": 0,
   "metadata": {
    "application/vnd.databricks.v1+cell": {
     "cellMetadata": {},
     "inputWidgets": {},
     "nuid": "a011b81b-926b-4d09-94d9-57c2003a4434",
     "showTitle": false,
     "tableResultSettingsMap": {},
     "title": ""
    }
   },
   "outputs": [],
   "source": [
    "params = dbutils.widgets.getAll()\n",
    "print(params)"
   ]
  },
  {
   "cell_type": "code",
   "execution_count": 0,
   "metadata": {
    "application/vnd.databricks.v1+cell": {
     "cellMetadata": {},
     "inputWidgets": {},
     "nuid": "063f4d2a-3fcc-40b5-8689-a8e34f1005a1",
     "showTitle": false,
     "tableResultSettingsMap": {},
     "title": ""
    }
   },
   "outputs": [],
   "source": [
    "catalog = params[\"catalog\"]\n",
    "schema = params[\"schema\"]\n",
    "transcription_model_id = params[\"transcription_model_id\"]\n",
    "transcription_model_save_path = f'/Volumes/{catalog}/{schema}/data/models/llm_classifier/{transcription_model_id.replace(\"-\", \"_\").replace(\"/\", \"_\")}'\n",
    "llm_model_id = params[\"llm_model_id\"]\n",
    "llm_model_save_path = f'/Volumes/{catalog}/{schema}/data/models/llm_classifier/{llm_model_id.replace(\"-\", \"_\").replace(\"/\", \"_\")}'"
   ]
  },
  {
   "cell_type": "markdown",
   "metadata": {
    "application/vnd.databricks.v1+cell": {
     "cellMetadata": {},
     "inputWidgets": {},
     "nuid": "176c1f46-c32c-46c9-90d5-c00cb70f8941",
     "showTitle": false,
     "tableResultSettingsMap": {},
     "title": ""
    }
   },
   "source": [
    "# Check if models have already been saved"
   ]
  },
  {
   "cell_type": "code",
   "execution_count": 0,
   "metadata": {
    "application/vnd.databricks.v1+cell": {
     "cellMetadata": {
      "byteLimit": 2048000,
      "rowLimit": 10000
     },
     "inputWidgets": {},
     "nuid": "eb164573-e344-4b47-91af-25bfcbbf2618",
     "showTitle": false,
     "tableResultSettingsMap": {},
     "title": ""
    }
   },
   "outputs": [],
   "source": [
    "catalog = \"marcell\"\n",
    "schema = \"ray_multimodel_inference\"\n",
    "transcription_model_id = \"openai/whisper-medium\"\n",
    "transcription_model_save_path = f'/Volumes/{catalog}/{schema}/data/models/{transcription_model_id.replace(\"-\", \"_\").replace(\"/\", \"_\")}'\n",
    "llm_model_id = \"microsoft/phi-4\"\n",
    "llm_model_save_path = f'/Volumes/{catalog}/{schema}/data/models/{llm_model_id.replace(\"-\", \"_\").replace(\"/\", \"_\")}'"
   ]
  },
  {
   "cell_type": "code",
   "execution_count": 0,
   "metadata": {
    "application/vnd.databricks.v1+cell": {
     "cellMetadata": {
      "byteLimit": 2048000,
      "rowLimit": 10000
     },
     "inputWidgets": {},
     "nuid": "54aa4fb1-2fae-48ed-a212-22fbc7d2a7e5",
     "showTitle": false,
     "tableResultSettingsMap": {},
     "title": ""
    }
   },
   "outputs": [],
   "source": [
    "import os\n",
    "\n",
    "transcription_model_exists = os.path.exists(transcription_model_save_path)\n",
    "llm_model_exists = os.path.exists(llm_model_save_path)\n",
    "\n",
    "model_needs_downloading = (not transcription_model_exists or not llm_model_exists)"
   ]
  },
  {
   "cell_type": "code",
   "execution_count": 0,
   "metadata": {
    "application/vnd.databricks.v1+cell": {
     "cellMetadata": {},
     "inputWidgets": {},
     "nuid": "ee6cec47-65d2-4d34-a731-5a83bbf44e49",
     "showTitle": false,
     "tableResultSettingsMap": {},
     "title": ""
    }
   },
   "outputs": [],
   "source": [
    "dbutils.jobs.taskValues.set(key=\"model_needs_downloading\", value = model_needs_downloading)"
   ]
  }
 ],
 "metadata": {
  "application/vnd.databricks.v1+notebook": {
   "computePreferences": null,
   "dashboards": [],
   "environmentMetadata": {
    "base_environment": "",
    "environment_version": "2"
   },
   "language": "python",
   "notebookMetadata": {
    "pythonIndentUnit": 2
   },
   "notebookName": "00_check_if_models_exist",
   "widgets": {}
  },
  "language_info": {
   "name": "python"
  }
 },
 "nbformat": 4,
 "nbformat_minor": 0
}
